{
 "cells": [
  {
   "cell_type": "code",
   "execution_count": 1,
   "metadata": {},
   "outputs": [],
   "source": [
    "# Standard imports\n",
    "import numpy as np # Version 1.20.1\n",
    "import pandas as pd # Version 1.2.4\n",
    "# Pandas settings\n",
    "pd.set_option('display.max_rows', None)\n",
    "pd.set_option(\"display.max_columns\", None)\n",
    "\n",
    "# Time Series imports\n",
    "import datetime as dt # Version 2.8.1\n",
    "import pytz # Version 2021.1\n",
    "import suntime as st # Version 1.2.5\n",
    "\n",
    "# Plotting imports\n",
    "import seaborn as sns # Version 0.11.1\n",
    "import matplotlib.pyplot as plt # Version 3.3.4\n",
    "import folium # 0.12.1.post1\n",
    "from folium.plugins import HeatMapWithTime\n",
    "from branca.element import Figure # 0.4.2\n",
    "\n",
    "# Please reduce \"DPI\" values below if plots take too long to display \n",
    "# Higher values make plots remain clear when zoomed in\n",
    "plt.rcParams['figure.dpi'] = 300\n",
    "# The lowest recommended value is 200 for A4 size print legibility \n",
    "# The recommended value is 600 for 'photograph-like' legibility\n",
    "plt.style.use('ggplot')\n",
    "\n",
    "# Geographical imports\n",
    "import haversine as hs # Version 2.5.1\n",
    "from haversine import Unit\n",
    "\n",
    "# Note to self: Remember to check and \n",
    "# include version numbers for modules used before submission \n",
    "# (Remove this before submission)"
   ]
  },
  {
   "cell_type": "code",
   "execution_count": 2,
   "metadata": {},
   "outputs": [],
   "source": [
    "# Standard imports\n",
    "import numpy as np # Version 1.20.1\n",
    "import pandas as pd # Version 1.2.4\n",
    "# Pandas settings\n",
    "pd.set_option('display.max_rows', None)\n",
    "pd.set_option(\"display.max_columns\", None)\n",
    "\n",
    "# Time Series imports\n",
    "import datetime as dt # Version 2.8.1\n",
    "import pytz # Version 2021.1\n",
    "import suntime as st # Version 1.2.5\n",
    "\n",
    "# Plotting imports\n",
    "import seaborn as sns # Version 0.11.1\n",
    "import matplotlib.pyplot as plt # Version 3.3.4\n",
    "\n",
    "# Please reduce \"DPI\" values below if plots take too long to display \n",
    "# Higher values make plots remain clear when zoomed in\n",
    "plt.rcParams['figure.dpi'] = 300\n",
    "# The lowest recommended value is 200 for A4 size print legibility \n",
    "# The recommended value is 600 for 'photograph-like' legibility\n",
    "plt.style.use('ggplot')\n",
    "\n",
    "# Geographical imports\n",
    "import haversine as hs # Version 2.5.1\n",
    "from haversine import Unit\n",
    "\n",
    "# Note to self: Remember to check and \n",
    "# include version numbers for modules used before submission \n",
    "# (Remove this before submission)"
   ]
  },
  {
   "cell_type": "code",
   "execution_count": 4,
   "metadata": {},
   "outputs": [],
   "source": [
    "import pandas as pd\n",
    "import numpy as np\n",
    "import matplotlib.pyplot as plt\n",
    "import seaborn as sns\n",
    "\n",
    "pd.set_option('display.max_rows', None)"
   ]
  },
  {
   "cell_type": "code",
   "execution_count": 6,
   "metadata": {},
   "outputs": [],
   "source": [
    "spray_cleaned = pd.read_csv('../data/spray_cleaned.csv')\n",
    "train_cleaned = pd.read_csv('../data/train_cleaned.csv')\n",
    "weather_cleaned = pd.read_csv('../data/weather_clean.csv')"
   ]
  },
  {
   "cell_type": "code",
   "execution_count": null,
   "metadata": {},
   "outputs": [],
   "source": []
  },
  {
   "cell_type": "code",
   "execution_count": null,
   "metadata": {},
   "outputs": [],
   "source": []
  },
  {
   "cell_type": "code",
   "execution_count": null,
   "metadata": {},
   "outputs": [],
   "source": []
  },
  {
   "cell_type": "code",
   "execution_count": null,
   "metadata": {},
   "outputs": [],
   "source": []
  },
  {
   "cell_type": "code",
   "execution_count": null,
   "metadata": {},
   "outputs": [],
   "source": []
  },
  {
   "cell_type": "code",
   "execution_count": null,
   "metadata": {},
   "outputs": [],
   "source": []
  },
  {
   "cell_type": "code",
   "execution_count": null,
   "metadata": {},
   "outputs": [],
   "source": []
  },
  {
   "cell_type": "code",
   "execution_count": null,
   "metadata": {},
   "outputs": [],
   "source": []
  },
  {
   "cell_type": "code",
   "execution_count": null,
   "metadata": {},
   "outputs": [],
   "source": []
  },
  {
   "cell_type": "code",
   "execution_count": null,
   "metadata": {},
   "outputs": [],
   "source": []
  },
  {
   "cell_type": "code",
   "execution_count": null,
   "metadata": {},
   "outputs": [],
   "source": []
  },
  {
   "cell_type": "code",
   "execution_count": null,
   "metadata": {},
   "outputs": [],
   "source": []
  },
  {
   "cell_type": "code",
   "execution_count": null,
   "metadata": {},
   "outputs": [],
   "source": []
  }
 ],
 "metadata": {
  "kernelspec": {
   "display_name": "Python 3",
   "language": "python",
   "name": "python3"
  },
  "language_info": {
   "codemirror_mode": {
    "name": "ipython",
    "version": 3
   },
   "file_extension": ".py",
   "mimetype": "text/x-python",
   "name": "python",
   "nbconvert_exporter": "python",
   "pygments_lexer": "ipython3",
   "version": "3.8.5"
  },
  "toc": {
   "base_numbering": 1,
   "nav_menu": {},
   "number_sections": true,
   "sideBar": true,
   "skip_h1_title": false,
   "title_cell": "Table of Contents",
   "title_sidebar": "Contents",
   "toc_cell": false,
   "toc_position": {},
   "toc_section_display": true,
   "toc_window_display": false
  }
 },
 "nbformat": 4,
 "nbformat_minor": 4
}
