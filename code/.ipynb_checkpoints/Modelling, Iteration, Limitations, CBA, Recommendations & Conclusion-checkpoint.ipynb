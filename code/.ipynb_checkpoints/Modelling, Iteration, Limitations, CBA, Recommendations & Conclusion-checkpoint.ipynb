{
 "cells": [
  {
   "cell_type": "markdown",
   "id": "2be28f7d",
   "metadata": {},
   "source": [
    "## Table of Contents"
   ]
  },
  {
   "cell_type": "markdown",
   "id": "486e21fa",
   "metadata": {},
   "source": [
    "**Part 1: Data Cleaning, EDA and Feat. Eng.** \n",
    "- Train Data Cleaning, EDA\n",
    "- Weather Data Cleaning, EDA\n",
    "- Spray Data Cleaning, EDA\n",
    "- Combined EDA, EDA\n",
    "\n",
    "**Part 2: Preprocessing, Feat. Eng. and Feature Sel.** \n",
    "- Pre-processing\n",
    "- Feature Engineering\n",
    "- Feature Selection\n",
    "\n",
    "**Part 3: Modelling**\n",
    "- Baseline Model\n",
    "- Modelling, Evaluation, Iteration\n",
    "- Limitations\n",
    "\n",
    "**Part 4: CBA, Recommendations & Conclusion**\n",
    "- Cost Benefit Analysis\n",
    "- Conclusion & Recommending"
   ]
  },
  {
   "cell_type": "markdown",
   "id": "a47036dc",
   "metadata": {},
   "source": [
    "## Module Imports"
   ]
  },
  {
   "cell_type": "code",
   "execution_count": 1,
   "id": "1c46c829",
   "metadata": {},
   "outputs": [],
   "source": [
    "# Standard imports\n",
    "import numpy as np # Version 1.20.1\n",
    "import pandas as pd # Version 1.2.4\n",
    "# Pandas settings\n",
    "pd.set_option('display.max_rows', None)\n",
    "pd.set_option(\"display.max_columns\", None)\n",
    "pd.set_option(\"max_colwidth\", 200)\n",
    "\n",
    "# Plotting imports\n",
    "import matplotlib.pyplot as plt\n",
    "import seaborn as sns\n",
    "# Please reduce \"DPI\" values below if plots take too long to display \n",
    "# Higher values make plots remain clear when zoomed in\n",
    "plt.rcParams['figure.dpi'] = 200\n",
    "# The lowest recommended value is 200 for A4 size print legibility \n",
    "# The recommended value is 600 for 'photograph-like' legibility\n",
    "%matplotlib inline\n",
    "\n",
    "# Time Series imports\n",
    "import datetime as dt # Version 2.8.1\n",
    "\n",
    "# Modelling imports\n",
    "from imblearn.over_sampling import SMOTE\n",
    "from imblearn.pipeline import Pipeline\n",
    "from sklearn.preprocessing import StandardScaler\n",
    "from sklearn.model_selection import train_test_split, GridSearchCV, TimeSeriesSplit\n",
    "from sklearn.metrics import confusion_matrix,plot_confusion_matrix,plot_roc_curve\n",
    "from sklearn.metrics import classification_report\n",
    "from sklearn.metrics import f1_score, precision_score, recall_score, accuracy_score,roc_auc_score\n",
    "from sklearn.neighbors import KNeighborsClassifier\n",
    "from sklearn.linear_model import LogisticRegression\n",
    "from sklearn.naive_bayes import GaussianNB\n",
    "from sklearn.tree import DecisionTreeClassifier\n",
    "from sklearn.ensemble import RandomForestClassifier, AdaBoostClassifier\n",
    "\n",
    "# Warnings\n",
    "import warnings\n",
    "warnings.simplefilter(action='ignore')"
   ]
  },
  {
   "cell_type": "markdown",
   "id": "d90d38df",
   "metadata": {},
   "source": [
    "## Function definition"
   ]
  },
  {
   "cell_type": "code",
   "execution_count": 2,
   "id": "3db7343d",
   "metadata": {},
   "outputs": [],
   "source": [
    "# Function to return name of dataframes\n",
    "def get_df_name(df):\n",
    "    name =[x for x in globals() if globals()[x] is df][0]\n",
    "    return name\n",
    "\n",
    "# Function for optimistic modelling \n",
    "def optimistic_model(clf, clf_params, X, y): \n",
    "    # Train Test Split\n",
    "    X_train, X_test, y_train, y_test = train_test_split(X,y,test_size = 0.2,stratify = y,random_state = 42)  \n",
    "    pipe = Pipeline(steps = [('ss', StandardScaler()),('sm', SMOTE(random_state = 42)),('clf', clf)])\n",
    "\n",
    "    # Gridsearch for best estimator\n",
    "    grid = GridSearchCV(\n",
    "        pipe,\n",
    "        param_grid=clf_params,\n",
    "        scoring='roc_auc',\n",
    "        verbose=2,\n",
    "        n_jobs=-1)\n",
    "    \n",
    "    grid.fit(X_train,y_train)\n",
    "    print(f'Classifier: {clf}')\n",
    "    print('Best Parameters:')\n",
    "    print(grid.best_params_)\n",
    "    \n",
    "    # Scoring metrics\n",
    "    scores = {'Classifier': clf}\n",
    "    y_train_preds = grid.predict(X_train)\n",
    "    y_test_preds = grid.predict(X_test)\n",
    "   \n",
    "    scores['Train ROC-AUC Score'] = roc_auc_score(y_train, y_train_preds.ravel())\n",
    "\n",
    "    # # Storing results for Test\n",
    "    scores['Val ROC-AUC Score'] = roc_auc_score(y_test, y_test_preds.ravel())\n",
    "    scores['Best Parameters'] = grid.best_params_\n",
    "    scores['F1'] = f1_score(y_test, y_test_preds)\n",
    "    scores['Precision'] = precision_score(y_test, y_test_preds)\n",
    "    scores['Recall'] = recall_score(y_test, y_test_preds)\n",
    "    scores['Accuracy'] = accuracy_score(y_test, y_test_preds)\n",
    "    optimisticresult.append(scores)\n",
    "\n",
    "    return pipe\n",
    "\n",
    "# Function for realistic modelling\n",
    "def realistic_model(clf, clf_params, X, y):\n",
    "    # Train Test Split (Walk forward Implementation)\n",
    "    train_size = int(len(X) * 0.80)\n",
    "    X_train, X_test = X[0:train_size], X[train_size:len(X)]\n",
    "    y_train, y_test = y[0:train_size], y[train_size:len(X)]\n",
    "    tscv = TimeSeriesSplit(n_splits = 3,test_size = 4)\n",
    "    \n",
    "    pipe = Pipeline(steps = [('ss', StandardScaler()),('sm', SMOTE(random_state = 42)),('clf', clf)])\n",
    "\n",
    "    # Gridsearch for best estimator\n",
    "    grid = GridSearchCV(\n",
    "        pipe,\n",
    "        param_grid=clf_params,\n",
    "        scoring='roc_auc',\n",
    "        verbose=2,\n",
    "        cv= tscv,\n",
    "        n_jobs=-1)\n",
    "    \n",
    "    grid.fit(X_train,y_train)\n",
    "    print(f'Classifier: {clf}')\n",
    "    print('Best Parameters:')\n",
    "    print(grid.best_params_)\n",
    "    \n",
    "    # Scoring metrics\n",
    "    scores = {'Classifier': clf}\n",
    "    y_train_preds = grid.predict(X_train)\n",
    "    y_test_preds = grid.predict(X_test)\n",
    "   \n",
    "    scores['Train ROC-AUC Score'] = roc_auc_score(y_train, y_train_preds.ravel())\n",
    "\n",
    "    # # Storing results for Test\n",
    "    scores['Val ROC-AUC Score'] = roc_auc_score(y_test, y_test_preds.ravel())\n",
    "    scores['Best Parameters'] = grid.best_params_\n",
    "    scores['F1'] = f1_score(y_test, y_test_preds)\n",
    "    scores['Precision'] = precision_score(y_test, y_test_preds)\n",
    "    scores['Recall'] = recall_score(y_test, y_test_preds)\n",
    "    scores['Accuracy'] = accuracy_score(y_test, y_test_preds)\n",
    "    scores['Train set Used'] = get_df_name(X) \n",
    "    scores['Val set used'] = get_df_name(y)\n",
    "    realisticresult.append(scores) \n",
    "    \n",
    "    return pipe"
   ]
  },
  {
   "cell_type": "markdown",
   "id": "70427d3b",
   "metadata": {},
   "source": [
    "## Read in CSVs"
   ]
  },
  {
   "cell_type": "code",
   "execution_count": 3,
   "id": "9ee6b65d",
   "metadata": {},
   "outputs": [],
   "source": [
    "train_combined = pd.read_csv('../data/train_combined.csv',index_col=[0])\n",
    "test_combined = pd.read_csv('../data/test_combined.csv',index_col=[0])\n",
    "submission = pd.read_csv('../data/sampleSubmission.csv')"
   ]
  },
  {
   "cell_type": "code",
   "execution_count": 4,
   "id": "4a1aa728",
   "metadata": {
    "scrolled": false
   },
   "outputs": [
    {
     "name": "stdout",
     "output_type": "stream",
     "text": [
      "Train : (8610, 43)\n",
      "Predict : (116293, 42)\n",
      "Submit : (116293, 2)\n"
     ]
    }
   ],
   "source": [
    "print(\"Train :\", train_combined.shape)\n",
    "print(\"Predict :\", test_combined.shape)\n",
    "print(\"Submit :\",submission.shape)"
   ]
  },
  {
   "cell_type": "code",
   "execution_count": 5,
   "id": "33afd81c",
   "metadata": {},
   "outputs": [
    {
     "data": {
      "text/plain": [
       "Index(['Species', 'Latitude', 'Longitude', 'WnvPresent', 'Tmin', 'DewPoint',\n",
       "       'Sunrise', 'Wet_NoWet', 'PrecipTotal', 'StnPressure', 'ResultSpeed',\n",
       "       'ResultDir', 'Tmin_rm7_lag1', 'Tmin_rm7_lag2', 'Tmin_rm7_lag3',\n",
       "       'Tmin_rm7_lag4', 'DewPoint_rm7_lag1', 'DewPoint_rm7_lag2',\n",
       "       'DewPoint_rm7_lag3', 'DewPoint_rm7_lag4', 'Sunrise_rm7_lag1',\n",
       "       'Sunrise_rm7_lag2', 'Sunrise_rm7_lag3', 'Sunrise_rm7_lag4',\n",
       "       'PrecipTotal_rm7_lag1', 'PrecipTotal_rm7_lag2', 'PrecipTotal_rm7_lag3',\n",
       "       'PrecipTotal_rm7_lag4', 'StnPressure_rm7_lag1', 'StnPressure_rm7_lag2',\n",
       "       'StnPressure_rm7_lag3', 'StnPressure_rm7_lag4', 'ResultSpeed_rm7_lag1',\n",
       "       'ResultSpeed_rm7_lag2', 'ResultSpeed_rm7_lag3', 'ResultSpeed_rm7_lag4',\n",
       "       'ResultDir_rm7_lag1', 'ResultDir_rm7_lag2', 'ResultDir_rm7_lag3',\n",
       "       'ResultDir_rm7_lag4', 'Year', 'Month', 'WeekofYear'],\n",
       "      dtype='object')"
      ]
     },
     "execution_count": 5,
     "metadata": {},
     "output_type": "execute_result"
    }
   ],
   "source": [
    "train_combined.columns\n",
    "# click ... to see output"
   ]
  },
  {
   "cell_type": "code",
   "execution_count": 6,
   "id": "05aa7803",
   "metadata": {},
   "outputs": [
    {
     "data": {
      "text/plain": [
       "Index(['Species', 'Latitude', 'Longitude', 'Tmin', 'DewPoint', 'Sunrise',\n",
       "       'Wet_NoWet', 'PrecipTotal', 'StnPressure', 'ResultSpeed', 'ResultDir',\n",
       "       'Year', 'Month', 'WeekofYear', 'Tmin_rm7_lag1', 'Tmin_rm7_lag2',\n",
       "       'Tmin_rm7_lag3', 'Tmin_rm7_lag4', 'DewPoint_rm7_lag1',\n",
       "       'DewPoint_rm7_lag2', 'DewPoint_rm7_lag3', 'DewPoint_rm7_lag4',\n",
       "       'Sunrise_rm7_lag1', 'Sunrise_rm7_lag2', 'Sunrise_rm7_lag3',\n",
       "       'Sunrise_rm7_lag4', 'PrecipTotal_rm7_lag1', 'PrecipTotal_rm7_lag2',\n",
       "       'PrecipTotal_rm7_lag3', 'PrecipTotal_rm7_lag4', 'StnPressure_rm7_lag1',\n",
       "       'StnPressure_rm7_lag2', 'StnPressure_rm7_lag3', 'StnPressure_rm7_lag4',\n",
       "       'ResultSpeed_rm7_lag1', 'ResultSpeed_rm7_lag2', 'ResultSpeed_rm7_lag3',\n",
       "       'ResultSpeed_rm7_lag4', 'ResultDir_rm7_lag1', 'ResultDir_rm7_lag2',\n",
       "       'ResultDir_rm7_lag3', 'ResultDir_rm7_lag4'],\n",
       "      dtype='object')"
      ]
     },
     "execution_count": 6,
     "metadata": {},
     "output_type": "execute_result"
    }
   ],
   "source": [
    "test_combined.columns\n",
    "# click ... to see output"
   ]
  },
  {
   "cell_type": "markdown",
   "id": "6a7ab6ef",
   "metadata": {},
   "source": [
    "It seems that the columns ordering are not uniform. We will reset the index for each dataframe."
   ]
  },
  {
   "cell_type": "code",
   "execution_count": 7,
   "id": "9558b0da",
   "metadata": {},
   "outputs": [],
   "source": [
    "train_combined = train_combined[['Species', 'Latitude', 'Longitude', 'Tmin', 'DewPoint',\n",
    "       'Sunrise', 'Wet_NoWet', 'PrecipTotal', 'StnPressure', 'ResultSpeed',\n",
    "       'ResultDir', 'Tmin_rm7_lag1', 'Tmin_rm7_lag2', 'Tmin_rm7_lag3',\n",
    "       'Tmin_rm7_lag4', 'DewPoint_rm7_lag1', 'DewPoint_rm7_lag2',\n",
    "       'DewPoint_rm7_lag3', 'DewPoint_rm7_lag4', 'Sunrise_rm7_lag1',\n",
    "       'Sunrise_rm7_lag2', 'Sunrise_rm7_lag3', 'Sunrise_rm7_lag4',\n",
    "       'PrecipTotal_rm7_lag1', 'PrecipTotal_rm7_lag2', 'PrecipTotal_rm7_lag3',\n",
    "       'PrecipTotal_rm7_lag4', 'StnPressure_rm7_lag1', 'StnPressure_rm7_lag2',\n",
    "       'StnPressure_rm7_lag3', 'StnPressure_rm7_lag4', 'ResultSpeed_rm7_lag1',\n",
    "       'ResultSpeed_rm7_lag2', 'ResultSpeed_rm7_lag3', 'ResultSpeed_rm7_lag4',\n",
    "       'ResultDir_rm7_lag1', 'ResultDir_rm7_lag2', 'ResultDir_rm7_lag3',\n",
    "       'ResultDir_rm7_lag4', 'Year', 'Month', 'WeekofYear','WnvPresent']]\n",
    "test_combined = test_combined[['Species', 'Latitude', 'Longitude', 'Tmin', 'DewPoint',\n",
    "       'Sunrise', 'Wet_NoWet', 'PrecipTotal', 'StnPressure', 'ResultSpeed',\n",
    "       'ResultDir', 'Tmin_rm7_lag1', 'Tmin_rm7_lag2', 'Tmin_rm7_lag3',\n",
    "       'Tmin_rm7_lag4', 'DewPoint_rm7_lag1', 'DewPoint_rm7_lag2',\n",
    "       'DewPoint_rm7_lag3', 'DewPoint_rm7_lag4', 'Sunrise_rm7_lag1',\n",
    "       'Sunrise_rm7_lag2', 'Sunrise_rm7_lag3', 'Sunrise_rm7_lag4',\n",
    "       'PrecipTotal_rm7_lag1', 'PrecipTotal_rm7_lag2', 'PrecipTotal_rm7_lag3',\n",
    "       'PrecipTotal_rm7_lag4', 'StnPressure_rm7_lag1', 'StnPressure_rm7_lag2',\n",
    "       'StnPressure_rm7_lag3', 'StnPressure_rm7_lag4', 'ResultSpeed_rm7_lag1',\n",
    "       'ResultSpeed_rm7_lag2', 'ResultSpeed_rm7_lag3', 'ResultSpeed_rm7_lag4',\n",
    "       'ResultDir_rm7_lag1', 'ResultDir_rm7_lag2', 'ResultDir_rm7_lag3',\n",
    "       'ResultDir_rm7_lag4', 'Year', 'Month', 'WeekofYear']]"
   ]
  },
  {
   "cell_type": "markdown",
   "id": "2ac5e072",
   "metadata": {},
   "source": [
    "## Pre-precessing"
   ]
  },
  {
   "cell_type": "code",
   "execution_count": 8,
   "id": "b1873a95",
   "metadata": {},
   "outputs": [],
   "source": [
    "# Define X and Y for tr01\n",
    "X = train_combined.drop(columns=['WnvPresent'])\n",
    "y = train_combined['WnvPresent']"
   ]
  },
  {
   "cell_type": "markdown",
   "id": "1c27e43c",
   "metadata": {},
   "source": [
    "### Baseline model with original positive class distribution (Imbalanced)"
   ]
  },
  {
   "cell_type": "code",
   "execution_count": 9,
   "id": "64c1124f",
   "metadata": {
    "scrolled": true
   },
   "outputs": [
    {
     "name": "stdout",
     "output_type": "stream",
     "text": [
      " Positive class\n",
      "0    0.946922\n",
      "1    0.053078\n",
      "Name: WnvPresent, dtype: float64\n"
     ]
    }
   ],
   "source": [
    "print(\" Positive class\")\n",
    "print(y.value_counts(normalize = True))"
   ]
  },
  {
   "cell_type": "code",
   "execution_count": 10,
   "id": "622b0807",
   "metadata": {},
   "outputs": [],
   "source": [
    "# Train test split for quick and dirty model\n",
    "X_train , X_test , y_train , y_test = train_test_split(X,y, test_size = 0.2, random_state = 42 , stratify = y)"
   ]
  },
  {
   "cell_type": "code",
   "execution_count": 11,
   "id": "cff3d145",
   "metadata": {},
   "outputs": [
    {
     "data": {
      "image/png": "[encoded data removed]",
      "text/plain": [
       "<Figure size 432x288 with 2 Axes>"
      ]
     },
     "metadata": {
      "needs_background": "light"
     },
     "output_type": "display_data"
    }
   ],
   "source": [
    "# Baseline Logreg with imbalanced class distribution\n",
    "lr = LogisticRegression(random_state = 42,max_iter=1000)\n",
    "lr.fit(X_train, y_train)\n",
    "#predict test dataset\n",
    "y_preds = lr.predict(X_test)\n",
    "#confusion matrix\n",
    "plot_confusion_matrix(lr, X_test, y_test);"
   ]
  },
  {
   "cell_type": "code",
   "execution_count": 12,
   "id": "a2cb1e6f",
   "metadata": {
    "scrolled": false
   },
   "outputs": [
    {
     "name": "stdout",
     "output_type": "stream",
     "text": [
      "True Negative:  1631\n",
      "False Positive:  0\n",
      "False Negative:  91\n",
      "True Positive:  0\n"
     ]
    }
   ],
   "source": [
    "# Print tn, fp, fn, tp values\n",
    "tn, fp, fn, tp = confusion_matrix(y_test, y_preds).ravel()\n",
    "print('True Negative: ',tn)\n",
    "print('False Positive: ',fp) \n",
    "print('False Negative: ',fn)\n",
    "print('True Positive: ',tp)"
   ]
  },
  {
   "cell_type": "code",
   "execution_count": 13,
   "id": "eeff9e4e",
   "metadata": {
    "scrolled": true
   },
   "outputs": [
    {
     "name": "stdout",
     "output_type": "stream",
     "text": [
      "              precision    recall  f1-score   support\n",
      "\n",
      "           0       0.95      1.00      0.97      1631\n",
      "           1       0.00      0.00      0.00        91\n",
      "\n",
      "    accuracy                           0.95      1722\n",
      "   macro avg       0.47      0.50      0.49      1722\n",
      "weighted avg       0.90      0.95      0.92      1722\n",
      "\n",
      "Train Score:  0.9468641114982579\n",
      "Test Score:  0.9471544715447154\n",
      "ROC_AUC Score:  0.5\n"
     ]
    }
   ],
   "source": [
    "print(classification_report(y_test, y_preds))\n",
    "print('Train Score: ', lr.score(X_train, y_train)),\n",
    "print('Test Score: ', lr.score(X_test, y_test)),\n",
    "print('ROC_AUC Score: ', roc_auc_score(y_test, y_preds.ravel()))"
   ]
  },
  {
   "cell_type": "markdown",
   "id": "92f0eca7",
   "metadata": {},
   "source": [
    "Using our quick and dirty Logistic Regression as the baseline model with our imbalanced dataset, there is 0 predicted positive cases. Reffering to the confusion matrix, we missed 91 actual positive cases due to the trained model's reluctance caused by the imbalanced dataset. While accuracy scores were great, ROC-AUC score was a measly 50%. To overcome the issue, we can use synthetic minority oversampling technique(SMOTE) to upsample our data to achieve balanced class distribution."
   ]
  },
  {
   "cell_type": "markdown",
   "id": "059e73aa",
   "metadata": {},
   "source": [
    "### Baseline model with upsampled positive class distribution (Balanced)"
   ]
  },
  {
   "cell_type": "code",
   "execution_count": 14,
   "id": "53aad7c4",
   "metadata": {
    "scrolled": true
   },
   "outputs": [
    {
     "name": "stdout",
     "output_type": "stream",
     "text": [
      "0    0.5\n",
      "1    0.5\n",
      "Name: WnvPresent, dtype: float64\n"
     ]
    }
   ],
   "source": [
    "# Upsampling positive class\n",
    "smote = SMOTE(random_state = 42)\n",
    "X_train_smt, y_train_smt = smote.fit_resample(X_train, y_train)\n",
    "# Achieving Balanced class distribution after upsampling with SMOTE\n",
    "print(y_train_smt.value_counts(normalize = True))"
   ]
  },
  {
   "cell_type": "markdown",
   "id": "672a280c",
   "metadata": {},
   "source": [
    "Let's use our upsampled data with our quick and dirty model for a new baseline."
   ]
  },
  {
   "cell_type": "code",
   "execution_count": 15,
   "id": "14675298",
   "metadata": {
    "scrolled": true
   },
   "outputs": [
    {
     "data": {
      "image/png": "[encoded data removed]",
      "text/plain": [
       "<Figure size 432x288 with 2 Axes>"
      ]
     },
     "metadata": {
      "needs_background": "light"
     },
     "output_type": "display_data"
    }
   ],
   "source": [
    "# Baseline Logreg with imbalanced class distribution\n",
    "lr = LogisticRegression(random_state = 42,max_iter=1000)\n",
    "lr.fit(X_train_smt, y_train_smt)\n",
    "\n",
    "# predict test dataset\n",
    "y_preds = lr.predict(X_test)\n",
    "\n",
    "# plot confusion matrix\n",
    "plot_confusion_matrix(lr, X_test, y_test);"
   ]
  },
  {
   "cell_type": "code",
   "execution_count": 16,
   "id": "01475d2b",
   "metadata": {
    "scrolled": false
   },
   "outputs": [
    {
     "name": "stdout",
     "output_type": "stream",
     "text": [
      "True Negative:  1121\n",
      "False Positive:  510\n",
      "False Negative:  27\n",
      "True Positive:  64\n"
     ]
    }
   ],
   "source": [
    "# Print tn, fp, fn, tp values\n",
    "tn, fp, fn, tp = confusion_matrix(y_test, y_preds).ravel()\n",
    "print('True Negative: ',tn)\n",
    "print('False Positive: ',fp) \n",
    "print('False Negative: ',fn)\n",
    "print('True Positive: ',tp)"
   ]
  },
  {
   "cell_type": "code",
   "execution_count": 17,
   "id": "6c4fb585",
   "metadata": {
    "scrolled": true
   },
   "outputs": [
    {
     "name": "stdout",
     "output_type": "stream",
     "text": [
      "              precision    recall  f1-score   support\n",
      "\n",
      "           0       0.98      0.69      0.81      1631\n",
      "           1       0.11      0.70      0.19        91\n",
      "\n",
      "    accuracy                           0.69      1722\n",
      "   macro avg       0.54      0.70      0.50      1722\n",
      "weighted avg       0.93      0.69      0.77      1722\n",
      "\n",
      "Train Score:  0.6794425087108014\n",
      "Test Score:  0.6881533101045296\n",
      "ROC_AUC Score:  0.6953025515257275\n"
     ]
    }
   ],
   "source": [
    "print(classification_report(y_test, y_preds))\n",
    "print('Train Score: ', lr.score(X_train, y_train)),\n",
    "print('Test Score: ', lr.score(X_test, y_test)),\n",
    "print('ROC_AUC Score: ', roc_auc_score(y_test, y_preds.ravel()))"
   ]
  },
  {
   "cell_type": "markdown",
   "id": "4fc488fb",
   "metadata": {},
   "source": [
    "With upsampled data, the initial reluctance of the earlier model caused by training with an imbalanced dataset is reduced, with a total of 574 positive cases predicted (FP:510, TP: 64). We were able to capture 70% of confirmed WNV traps this time, measuring the potential saved costs compared against extra expenditure owing to spraying costs incurred will be done later in the cost benefit analysis.  \n",
    "\n",
    "We also note that the benchmark (ROC-AUC is 69.5%) for our upsampled dataset, subsequent models with ROC-AUC less than 69.5% will be rejected."
   ]
  },
  {
   "cell_type": "code",
   "execution_count": 18,
   "id": "28110730",
   "metadata": {
    "scrolled": true
   },
   "outputs": [
    {
     "data": {
      "image/png": "[encoded data removed]",
      "text/plain": [
       "<Figure size 432x288 with 1 Axes>"
      ]
     },
     "metadata": {
      "needs_background": "light"
     },
     "output_type": "display_data"
    }
   ],
   "source": [
    "# Extracting coefficient values\n",
    "coeff = pd.DataFrame(X_train.columns)\n",
    "coeff['Coefficient values'] = pd.Series(lr.coef_.tolist()[0])\n",
    "coeff.rename(columns={0:\"Feature\"}, inplace=True)\n",
    "\n",
    "#we will use this for sorting\n",
    "coeff['abs_val'] = abs(coeff['Coefficient values'])\n",
    "\n",
    "#top 20 features\n",
    "coeff_20 = coeff.sort_values(by ='abs_val', ascending=True)[:20]\n",
    "coeff_20.sort_values(by='abs_val').plot(kind = 'barh',y='Coefficient values',x='Feature',color = 'orange', title = 'Top 20 Coefficients (Absolute value)');\n"
   ]
  },
  {
   "cell_type": "markdown",
   "id": "c23721d1",
   "metadata": {},
   "source": [
    "---"
   ]
  },
  {
   "cell_type": "markdown",
   "id": "4e30eef0",
   "metadata": {},
   "source": [
    "## Metrics for model evaluation"
   ]
  },
  {
   "cell_type": "markdown",
   "id": "596bedf0",
   "metadata": {},
   "source": [
    "While the `AUC-ROC` score will be evaluated for purposes of the Kaggle, the more important metric to optimize for the business case is false negatives. False negatives happen when the model wrongly predicts no presence of WNV when it is actually present. It will be important to ensure minimal false negatives these may translate to outbreaks causing enormous strain on public healthcare resources and producitivity loss.     \n",
    "\n",
    "The model metric allowing us to measure model performance with regards to minimizing false negatives is `Recall` score.  \n",
    "Ultimately, when it comes to choosing the model for our business case, we will prioritize choosing models with the high recall score first, followed by high ROC-AUC scores."
   ]
  },
  {
   "cell_type": "markdown",
   "id": "e1c3991a",
   "metadata": {},
   "source": [
    "## Modelling"
   ]
  },
  {
   "cell_type": "markdown",
   "id": "4a4cbb08",
   "metadata": {},
   "source": [
    "Here are the models chosen for modelling, coupled with reasons for choosing them:\n",
    "- **LogisticRegression**\n",
    "    - Easy to understand\n",
    "    - Interpretability \n",
    "    - Efficient to train\n",
    "- **K-Nearest Neighbours Classifier**\n",
    "    - No assumptions have to be made\n",
    "    - Adaptable to quickly changing training data \n",
    "- **Decision Tree Classifier**\n",
    "    - Interpretability\n",
    "    - Minimal pre-processing\n",
    "    - Decent perf. despite violation of assumptions by the true model of data generation\n",
    "- **Random Forest Classifier**\n",
    "    - Robust to outliers\n",
    "    - Lower risk of overfitting, compared to Decision Trees\n",
    "    - Efficient on larger dataset\n",
    "- **Adaboost Classifier**\n",
    "    - Built on shortcomings of Decision Trees\n",
    "    - Improved accuracy compared to 'weak' classifiers\n",
    "    - Minimal hyperparameter to tune"
   ]
  },
  {
   "cell_type": "markdown",
   "id": "116b1b80",
   "metadata": {},
   "source": [
    "We will be using GridSearchCV to perform hyperparameter tuning at the same time."
   ]
  },
  {
   "cell_type": "code",
   "execution_count": 19,
   "id": "dfd5b853",
   "metadata": {},
   "outputs": [],
   "source": [
    "#Configuring parameters for above mentioned models\n",
    "\n",
    "# LogisticRegression\n",
    "lr = LogisticRegression()\n",
    "lr_params = {\n",
    "    'clf__random_state': [42],\n",
    "    'clf__n_jobs': [-1],\n",
    "    'clf__C': [0.001, 0.25075, 0.5005],\n",
    "    'clf__l1_ratio': [0, 0.25, 0.5],\n",
    "    'clf__max_iter': [750,1000],\n",
    "    'clf__penalty': ['l1', 'l2'],\n",
    "    'clf__solver' : ['liblinear']\n",
    "}\n",
    "\n",
    "# K-Nearest Neighbours Classifier\n",
    "knn = KNeighborsClassifier()\n",
    "knn_params = {\n",
    "    'clf__n_neighbors' : [3,4,5,7],\n",
    "    'clf__p': [1,2]\n",
    "}\n",
    "\n",
    "# Decision Tree Classifier\n",
    "dtc = DecisionTreeClassifier()\n",
    "dtc_params = {\n",
    "    'clf__random_state': [42],\n",
    "    'clf__max_depth': [2, 3, 5, 10],\n",
    "    'clf__min_samples_leaf': [2, 5, 8],\n",
    "    'clf__criterion': ['gini', 'entropy']\n",
    "}\n",
    "   \n",
    "# Random Forest Classifier\n",
    "rfc = RandomForestClassifier()\n",
    "rfc_params = {\n",
    "    'clf__random_state': [42],\n",
    "    'clf__n_jobs': [-1],\n",
    "    'clf__n_estimators': [15, 30, 45],\n",
    "    'clf__max_depth': [4, 6, 8, 10]\n",
    "}\n",
    "\n",
    "# Ada Boost Classifier\n",
    "ada = AdaBoostClassifier()\n",
    "ada_params = {\n",
    "    'clf__random_state': [42],\n",
    "    'clf__n_estimators':[50,75,100], \n",
    "    'clf__learning_rate':[1,0.5,0.1,0.05,0.01]\n",
    "}\n",
    "\n",
    "# List of classifiers & params\n",
    "classifiers = [\n",
    "    (lr, lr_params),\n",
    "    (knn, knn_params),\n",
    "    (dtc, dtc_params),\n",
    "    (rfc, rfc_params),\n",
    "    (ada, ada_params),\n",
    "]"
   ]
  },
  {
   "cell_type": "code",
   "execution_count": 20,
   "id": "1c44d753",
   "metadata": {},
   "outputs": [],
   "source": [
    "# Initializing empty list to store gridsearch results\n",
    "optimisticresult = []"
   ]
  },
  {
   "cell_type": "code",
   "execution_count": 21,
   "id": "181a984c",
   "metadata": {
    "collapsed": true
   },
   "outputs": [
    {
     "name": "stdout",
     "output_type": "stream",
     "text": [
      "Fitting 5 folds for each of 36 candidates, totalling 180 fits\n",
      "Classifier: LogisticRegression()\n",
      "Best Parameters:\n",
      "{'clf__C': 0.5005, 'clf__l1_ratio': 0, 'clf__max_iter': 750, 'clf__n_jobs': -1, 'clf__penalty': 'l1', 'clf__random_state': 42, 'clf__solver': 'liblinear'}\n",
      "Fitting 5 folds for each of 8 candidates, totalling 40 fits\n",
      "Classifier: KNeighborsClassifier()\n",
      "Best Parameters:\n",
      "{'clf__n_neighbors': 7, 'clf__p': 2}\n",
      "Fitting 5 folds for each of 24 candidates, totalling 120 fits\n",
      "Classifier: DecisionTreeClassifier()\n",
      "Best Parameters:\n",
      "{'clf__criterion': 'gini', 'clf__max_depth': 5, 'clf__min_samples_leaf': 8, 'clf__random_state': 42}\n",
      "Fitting 5 folds for each of 12 candidates, totalling 60 fits\n",
      "Classifier: RandomForestClassifier()\n",
      "Best Parameters:\n",
      "{'clf__max_depth': 8, 'clf__n_estimators': 30, 'clf__n_jobs': -1, 'clf__random_state': 42}\n",
      "Fitting 5 folds for each of 15 candidates, totalling 75 fits\n",
      "Classifier: AdaBoostClassifier()\n",
      "Best Parameters:\n",
      "{'clf__learning_rate': 0.1, 'clf__n_estimators': 100, 'clf__random_state': 42}\n"
     ]
    }
   ],
   "source": [
    "# Run GS on all models across all trainsets\n",
    "\n",
    "# Train-test split, Scaling and SMOTE is applied onto X and y which is the train dataset \n",
    "# followed by being trained using respective classifier embedded as a pipeline inside the function\n",
    "# refer to the Function Definition section to see what happens under the hood\n",
    "\n",
    "for (clf, clf_params) in classifiers:\n",
    "    optimistic_model(clf, clf_params, X, y)\n",
    "#click ... to view output"
   ]
  },
  {
   "cell_type": "code",
   "execution_count": 22,
   "id": "d0eb27a6",
   "metadata": {
    "scrolled": true
   },
   "outputs": [
    {
     "data": {
      "text/html": [
       "<div>\n",
       "<style scoped>\n",
       "    .dataframe tbody tr th:only-of-type {\n",
       "        vertical-align: middle;\n",
       "    }\n",
       "\n",
       "    .dataframe tbody tr th {\n",
       "        vertical-align: top;\n",
       "    }\n",
       "\n",
       "    .dataframe thead th {\n",
       "        text-align: right;\n",
       "    }\n",
       "</style>\n",
       "<table border=\"1\" class=\"dataframe\">\n",
       "  <thead>\n",
       "    <tr style=\"text-align: right;\">\n",
       "      <th></th>\n",
       "      <th>Classifier</th>\n",
       "      <th>Train ROC-AUC Score</th>\n",
       "      <th>Val ROC-AUC Score</th>\n",
       "      <th>Best Parameters</th>\n",
       "      <th>F1</th>\n",
       "      <th>Precision</th>\n",
       "      <th>Recall</th>\n",
       "      <th>Accuracy</th>\n",
       "    </tr>\n",
       "  </thead>\n",
       "  <tbody>\n",
       "    <tr>\n",
       "      <th>0</th>\n",
       "      <td>AdaBoostClassifier()</td>\n",
       "      <td>0.769356</td>\n",
       "      <td>0.777956</td>\n",
       "      <td>{'clf__learning_rate': 0.1, 'clf__n_estimators': 100, 'clf__random_state': 42}</td>\n",
       "      <td>0.222826</td>\n",
       "      <td>0.127132</td>\n",
       "      <td>0.901099</td>\n",
       "      <td>0.667828</td>\n",
       "    </tr>\n",
       "    <tr>\n",
       "      <th>1</th>\n",
       "      <td>RandomForestClassifier()</td>\n",
       "      <td>0.791749</td>\n",
       "      <td>0.768264</td>\n",
       "      <td>{'clf__max_depth': 8, 'clf__n_estimators': 30, 'clf__n_jobs': -1, 'clf__random_state': 42}</td>\n",
       "      <td>0.228826</td>\n",
       "      <td>0.132302</td>\n",
       "      <td>0.846154</td>\n",
       "      <td>0.698606</td>\n",
       "    </tr>\n",
       "    <tr>\n",
       "      <th>2</th>\n",
       "      <td>LogisticRegression()</td>\n",
       "      <td>0.756251</td>\n",
       "      <td>0.749917</td>\n",
       "      <td>{'clf__C': 0.5005, 'clf__l1_ratio': 0, 'clf__max_iter': 750, 'clf__n_jobs': -1, 'clf__penalty': 'l1', 'clf__random_state': 42, 'clf__solver': 'liblinear'}</td>\n",
       "      <td>0.215827</td>\n",
       "      <td>0.124172</td>\n",
       "      <td>0.824176</td>\n",
       "      <td>0.683508</td>\n",
       "    </tr>\n",
       "    <tr>\n",
       "      <th>3</th>\n",
       "      <td>DecisionTreeClassifier()</td>\n",
       "      <td>0.755334</td>\n",
       "      <td>0.749776</td>\n",
       "      <td>{'clf__criterion': 'gini', 'clf__max_depth': 5, 'clf__min_samples_leaf': 8, 'clf__random_state': 42}</td>\n",
       "      <td>0.200247</td>\n",
       "      <td>0.112813</td>\n",
       "      <td>0.890110</td>\n",
       "      <td>0.624274</td>\n",
       "    </tr>\n",
       "    <tr>\n",
       "      <th>4</th>\n",
       "      <td>KNeighborsClassifier()</td>\n",
       "      <td>0.886681</td>\n",
       "      <td>0.707777</td>\n",
       "      <td>{'clf__n_neighbors': 7, 'clf__p': 2}</td>\n",
       "      <td>0.242291</td>\n",
       "      <td>0.151515</td>\n",
       "      <td>0.604396</td>\n",
       "      <td>0.800232</td>\n",
       "    </tr>\n",
       "  </tbody>\n",
       "</table>\n",
       "</div>"
      ],
      "text/plain": [
       "                 Classifier  Train ROC-AUC Score  Val ROC-AUC Score  \\\n",
       "0      AdaBoostClassifier()             0.769356           0.777956   \n",
       "1  RandomForestClassifier()             0.791749           0.768264   \n",
       "2      LogisticRegression()             0.756251           0.749917   \n",
       "3  DecisionTreeClassifier()             0.755334           0.749776   \n",
       "4    KNeighborsClassifier()             0.886681           0.707777   \n",
       "\n",
       "                                                                                                                                              Best Parameters  \\\n",
       "0                                                                              {'clf__learning_rate': 0.1, 'clf__n_estimators': 100, 'clf__random_state': 42}   \n",
       "1                                                                  {'clf__max_depth': 8, 'clf__n_estimators': 30, 'clf__n_jobs': -1, 'clf__random_state': 42}   \n",
       "2  {'clf__C': 0.5005, 'clf__l1_ratio': 0, 'clf__max_iter': 750, 'clf__n_jobs': -1, 'clf__penalty': 'l1', 'clf__random_state': 42, 'clf__solver': 'liblinear'}   \n",
       "3                                                        {'clf__criterion': 'gini', 'clf__max_depth': 5, 'clf__min_samples_leaf': 8, 'clf__random_state': 42}   \n",
       "4                                                                                                                        {'clf__n_neighbors': 7, 'clf__p': 2}   \n",
       "\n",
       "         F1  Precision    Recall  Accuracy  \n",
       "0  0.222826   0.127132  0.901099  0.667828  \n",
       "1  0.228826   0.132302  0.846154  0.698606  \n",
       "2  0.215827   0.124172  0.824176  0.683508  \n",
       "3  0.200247   0.112813  0.890110  0.624274  \n",
       "4  0.242291   0.151515  0.604396  0.800232  "
      ]
     },
     "execution_count": 22,
     "metadata": {},
     "output_type": "execute_result"
    }
   ],
   "source": [
    "# View results of GSCV with best parameters for each of the model\n",
    "optimisticresult = pd.DataFrame(optimisticresult).sort_values(by='Val ROC-AUC Score', ascending=False).reset_index(drop=True)\n",
    "optimisticresult"
   ]
  },
  {
   "cell_type": "markdown",
   "id": "87bc4a5d",
   "metadata": {},
   "source": [
    "### Analysis for GSCV models"
   ]
  },
  {
   "attachments": {
    "image-2.png": {
     "image/png": "[encoded data removed]"
    }
   },
   "cell_type": "markdown",
   "id": "f6cd8689",
   "metadata": {},
   "source": [
    "Top Kaggle model (ROC-AUC) Score:  \n",
    " - **AdaBoostClassifier**    \n",
    "\n",
    "Top busines model (Recall) Score:  \n",
    " - **AdaBoostClassifier**\n",
    "\n",
    "Looking at the results of our gridsearch, the AdaBoostClassifier tops both our Kaggle and business case metric (ROC-AUC and Recall) with the scores of ~0.778 and ~0.901 respectively. \n",
    "We will use the AdaBoostClassifier model predictions for submission to Kaggle.\n",
    "\n",
    "Kaggle score:\n",
    "![image-2.png](attachment:image-2.png)\n",
    "\n",
    "Let's take a look at the top coefficients from the AdaBoostClassifier."
   ]
  },
  {
   "cell_type": "markdown",
   "id": "9cba9a08",
   "metadata": {},
   "source": [
    "### Top Coefficients"
   ]
  },
  {
   "cell_type": "code",
   "execution_count": 23,
   "id": "56eb1adf",
   "metadata": {},
   "outputs": [],
   "source": [
    "ada = AdaBoostClassifier(random_state = 42, n_estimators = 100, learning_rate = 0.1).fit(X_train_smt, y_train_smt)"
   ]
  },
  {
   "cell_type": "code",
   "execution_count": 24,
   "id": "72c76e87",
   "metadata": {},
   "outputs": [
    {
     "data": {
      "image/png": "[encoded data removed]",
      "text/plain": [
       "<Figure size 432x288 with 1 Axes>"
      ]
     },
     "metadata": {
      "needs_background": "light"
     },
     "output_type": "display_data"
    }
   ],
   "source": [
    "# Extracting coefficient values\n",
    "coeff = pd.DataFrame(ada.feature_names_in_)\n",
    "coeff['Relative Importance'] = pd.Series(ada.feature_importances_)\n",
    "coeff.rename(columns={0:\"Feature\"}, inplace=True)\n",
    "\n",
    "#Top 10 features\n",
    "coeff_20 = coeff.sort_values(by ='Relative Importance', ascending=True)\n",
    "coeff_20.sort_values('Relative Importance')[20:].plot(kind = 'barh',y='Relative Importance',x='Feature',color = 'orange', title = 'Feature Importance');"
   ]
  },
  {
   "cell_type": "markdown",
   "id": "9b542c72",
   "metadata": {},
   "source": [
    "---"
   ]
  },
  {
   "cell_type": "markdown",
   "id": "e3025964",
   "metadata": {},
   "source": [
    "## Limitations"
   ]
  },
  {
   "attachments": {
    "image-2.png": {
     "image/png": "[encoded data removed]"
    },
    "image-4.png": {
     "image/png": "[encoded data removed]"
    },
    "image-5.png": {
     "image/png": "[encoded data removed]"
    }
   },
   "cell_type": "markdown",
   "id": "54d59f7b",
   "metadata": {},
   "source": [
    "While it seems that the models are doing decently well, during EDA we have identified certain features prior which have shown trends and seasonalities. Resultant of that, there are assumptions made that where past data are correlated to the present. Not only is past data correlated, another assumption is that the most recent past data have a natural tendency to be the most correlated. This is also seen in the feature importance portion, where most if not all lagged weather features are better indicators than the present weather features. \n",
    "\n",
    "**Look Ahead Bias**  \n",
    "Another violation made to our modelling approach is the [look-ahead bias](https://www.investopedia.com/terms/l/lookaheadbias.asp#:~:text=What%20Is%20the%20Look%2DAhead,in%20the%20study%20or%20simulation.), which occurs by using information or data in a study or simulation that would not have been known or available during the period being analyzed. This can lead to inaccurate results in the study or simulation.\n",
    "\n",
    "We made this violation as the train dataset contained features for the following years: 2007,2009,2011,2013. Our models were trained using four alternating years of training data. Consequently, we are predicting for the years: 2008,2010,2012,2014. Following what was stated for the look ahead bias, we have used data for future years to predict the presence of WNV (i.e 2008, was predicted using data from 2009,2011,2013, so on...). The \"reliable\" predictions where future data was not introduced is probably year 2014.\n",
    "\n",
    "**Traditional Cross Validation's role in introducing bias**  \n",
    "\n",
    "This is cross validation as we commonly understand it:  \n",
    "![image-2.png](attachment:image-2.png)\n",
    "\n",
    "If the data was indexed base on the date of the records, we can say that first fold will contain mostly information from 2007, and the last fold will contain mostly information from 2013. By performing cross validation, or shuffling the data during the train test split, we would have either broken the serial relationship of the precendent rows or introduced some form of look ahead bias where future data has been used to predict the past by the time cross validation is complete.\n",
    "\n",
    "**Look ahead validation**  \n",
    "In practice, we very likely will retrain our model at an interview  new data becomes available.\n",
    "\n",
    "Starting at the beginning of the time series, the minimum number of samples in the window is used to train a model.\n",
    "1. The model makes a prediction for the next time step.\n",
    "2. The prediction is stored or evaluated against the known value.\n",
    "3. The window is expanded to include the known value and the process is repeated (go to step 1.)  \n",
    "\n",
    "Because this methodology involves moving along the time series one-time step at a time, it is often called Walk Forward Testing or Walk Forward Validation.\n",
    "\n",
    "This also brings upon a problem where your training dataset is ever expanding, while years which are too far behind becomes more of a crutch than an aid in the modelling process.  \n",
    "\n",
    "This is how it looks visually \n",
    "![image-5.png](attachment:image-5.png)\n",
    "\n",
    "\n",
    "**Introducing a Sliding Window**\n",
    "\n",
    "To counteract this, we can introduce a sliding or expanding window to train a model, this method is also referred to as Rolling Window Analysis or a Rolling Forecast. \n",
    "  \n",
    "Visually this is how it looks like:  \n",
    "![image-4.png](attachment:image-4.png)\n",
    "\n",
    "\n",
    "\n",
    "Below is an attempt of implementing the methods listed above to our project:"
   ]
  },
  {
   "attachments": {},
   "cell_type": "markdown",
   "id": "4df561d4",
   "metadata": {},
   "source": [
    "Here is an outline of how the train test datasets will be transformed:\n",
    "- Train data to be split into four sets consisting of the following years:\n",
    "    - train1 (2007)\n",
    "    - train2 (2007,2009)\n",
    "    - train3 (2007,2009,2011)\n",
    "    - train4 (2009,2011,2013)  \n",
    "\n",
    "- Test data to be split into four sets consisting of the following years:\n",
    "    - test1 (2008)\n",
    "    - test2 (2010)\n",
    "    - test3 (2012)\n",
    "    - test4 (2014)  "
   ]
  },
  {
   "cell_type": "code",
   "execution_count": 25,
   "id": "aab37702",
   "metadata": {},
   "outputs": [],
   "source": [
    "# Splitting of train dataset into the outlined years\n",
    "tr01 = train_combined[train_combined['Year'] == 2007]\n",
    "tr02 = train_combined[(train_combined['Year'] == 2007) | (train_combined['Year'] == 2009)]\n",
    "tr03 = train_combined[(train_combined['Year'] == 2007) | (train_combined['Year'] == 2009) | (train_combined['Year'] == 2011)]\n",
    "# Note that in trainset four (tr04) 2007 is not included, the 'window' is capped at 3 years\n",
    "tr04 = train_combined[(train_combined['Year'] == 2009) | (train_combined['Year'] == 2011) | (train_combined['Year'] == 2013)]"
   ]
  },
  {
   "cell_type": "code",
   "execution_count": 34,
   "id": "8cbf0fe3",
   "metadata": {},
   "outputs": [
    {
     "name": "stdout",
     "output_type": "stream",
     "text": [
      "(2837, 43) (4758, 43) (6552, 43) (5773, 43)\n"
     ]
    }
   ],
   "source": [
    "print(tr01.shape,tr02.shape,tr03.shape,tr04.shape)"
   ]
  },
  {
   "cell_type": "markdown",
   "id": "ca3a8395",
   "metadata": {},
   "source": [
    "By limiting the maximum number of years in a training set to 3 years, this will allow us to keep only the three most recent years and also prevent an ever expanding training set which will become more computationally intensive in both resource and time to maintain and train.    \n",
    "\n",
    "It should also be important to note the above methodology cannot be applied to this project as ideally once a year has passed in the present we would have obtained the ground truth for that year for both comparing model performance and for retraining the train sets to include years passed (we did not include test years passed as the training data for subsequent years).\n",
    "\n",
    "With this methodology, every model which was originally used for training will have be trained four times for each trainset to prevent the look ahead bias being introduced."
   ]
  },
  {
   "cell_type": "markdown",
   "id": "7c8b4677",
   "metadata": {},
   "source": [
    "## Intuition of results\n",
    "Looking at the trainsets created in line with the expanding(`tr01,tr02,tr03`) and sliding window(`tr04`) methodology, we feel that model performance should start off very bad as not only is `tr01` dataset small the model will have difficulty learning the seasonality of the variables as there is only 1 incomplete year to learn from. Scores will improve as we move down the line and peak either on either `tr03` or `tr04`. `tr03` looks to have the strongest result due to it having the largest size of all the trainsets.\n",
    "\n"
   ]
  },
  {
   "cell_type": "markdown",
   "id": "d61482af",
   "metadata": {},
   "source": [
    "### Modelling with new trainsets"
   ]
  },
  {
   "cell_type": "code",
   "execution_count": 28,
   "id": "deeb924f",
   "metadata": {},
   "outputs": [],
   "source": [
    "X1 = tr01.drop(columns=['WnvPresent'])\n",
    "y1 = tr01['WnvPresent']\n",
    "X2 = tr02.drop(columns=['WnvPresent'])\n",
    "y2 = tr02['WnvPresent']\n",
    "X3 = tr03.drop(columns=['WnvPresent'])\n",
    "y3 = tr03['WnvPresent']\n",
    "X4 = tr04.drop(columns=['WnvPresent'])\n",
    "y4 = tr04['WnvPresent']"
   ]
  },
  {
   "cell_type": "code",
   "execution_count": 30,
   "id": "0d4fb4e1",
   "metadata": {},
   "outputs": [],
   "source": [
    "# Initializing empty list to store gridsearch results\n",
    "realisticresult = []"
   ]
  },
  {
   "cell_type": "code",
   "execution_count": 31,
   "id": "0f8bbe8d",
   "metadata": {
    "collapsed": true
   },
   "outputs": [
    {
     "name": "stdout",
     "output_type": "stream",
     "text": [
      "Fitting 3 folds for each of 36 candidates, totalling 108 fits\n",
      "Classifier: LogisticRegression()\n",
      "Best Parameters:\n",
      "{'clf__C': 0.001, 'clf__l1_ratio': 0, 'clf__max_iter': 750, 'clf__n_jobs': -1, 'clf__penalty': 'l1', 'clf__random_state': 42, 'clf__solver': 'liblinear'}\n",
      "Fitting 3 folds for each of 36 candidates, totalling 108 fits\n",
      "Classifier: LogisticRegression()\n",
      "Best Parameters:\n",
      "{'clf__C': 0.001, 'clf__l1_ratio': 0, 'clf__max_iter': 750, 'clf__n_jobs': -1, 'clf__penalty': 'l1', 'clf__random_state': 42, 'clf__solver': 'liblinear'}\n",
      "Fitting 3 folds for each of 36 candidates, totalling 108 fits\n",
      "Classifier: LogisticRegression()\n",
      "Best Parameters:\n",
      "{'clf__C': 0.001, 'clf__l1_ratio': 0, 'clf__max_iter': 750, 'clf__n_jobs': -1, 'clf__penalty': 'l1', 'clf__random_state': 42, 'clf__solver': 'liblinear'}\n",
      "Fitting 3 folds for each of 36 candidates, totalling 108 fits\n",
      "Classifier: LogisticRegression()\n",
      "Best Parameters:\n",
      "{'clf__C': 0.001, 'clf__l1_ratio': 0, 'clf__max_iter': 750, 'clf__n_jobs': -1, 'clf__penalty': 'l1', 'clf__random_state': 42, 'clf__solver': 'liblinear'}\n",
      "Fitting 3 folds for each of 8 candidates, totalling 24 fits\n",
      "Classifier: KNeighborsClassifier()\n",
      "Best Parameters:\n",
      "{'clf__n_neighbors': 3, 'clf__p': 1}\n",
      "Fitting 3 folds for each of 8 candidates, totalling 24 fits\n",
      "Classifier: KNeighborsClassifier()\n",
      "Best Parameters:\n",
      "{'clf__n_neighbors': 3, 'clf__p': 1}\n",
      "Fitting 3 folds for each of 8 candidates, totalling 24 fits\n",
      "Classifier: KNeighborsClassifier()\n",
      "Best Parameters:\n",
      "{'clf__n_neighbors': 3, 'clf__p': 1}\n",
      "Fitting 3 folds for each of 8 candidates, totalling 24 fits\n",
      "Classifier: KNeighborsClassifier()\n",
      "Best Parameters:\n",
      "{'clf__n_neighbors': 3, 'clf__p': 1}\n",
      "Fitting 3 folds for each of 24 candidates, totalling 72 fits\n",
      "Classifier: DecisionTreeClassifier()\n",
      "Best Parameters:\n",
      "{'clf__criterion': 'gini', 'clf__max_depth': 2, 'clf__min_samples_leaf': 2, 'clf__random_state': 42}\n",
      "Fitting 3 folds for each of 24 candidates, totalling 72 fits\n",
      "Classifier: DecisionTreeClassifier()\n",
      "Best Parameters:\n",
      "{'clf__criterion': 'gini', 'clf__max_depth': 2, 'clf__min_samples_leaf': 2, 'clf__random_state': 42}\n",
      "Fitting 3 folds for each of 24 candidates, totalling 72 fits\n",
      "Classifier: DecisionTreeClassifier()\n",
      "Best Parameters:\n",
      "{'clf__criterion': 'gini', 'clf__max_depth': 2, 'clf__min_samples_leaf': 2, 'clf__random_state': 42}\n",
      "Fitting 3 folds for each of 24 candidates, totalling 72 fits\n",
      "Classifier: DecisionTreeClassifier()\n",
      "Best Parameters:\n",
      "{'clf__criterion': 'gini', 'clf__max_depth': 2, 'clf__min_samples_leaf': 2, 'clf__random_state': 42}\n",
      "Fitting 3 folds for each of 12 candidates, totalling 36 fits\n",
      "Classifier: RandomForestClassifier()\n",
      "Best Parameters:\n",
      "{'clf__max_depth': 4, 'clf__n_estimators': 15, 'clf__n_jobs': -1, 'clf__random_state': 42}\n",
      "Fitting 3 folds for each of 12 candidates, totalling 36 fits\n",
      "Classifier: RandomForestClassifier()\n",
      "Best Parameters:\n",
      "{'clf__max_depth': 4, 'clf__n_estimators': 15, 'clf__n_jobs': -1, 'clf__random_state': 42}\n",
      "Fitting 3 folds for each of 12 candidates, totalling 36 fits\n",
      "Classifier: RandomForestClassifier()\n",
      "Best Parameters:\n",
      "{'clf__max_depth': 4, 'clf__n_estimators': 15, 'clf__n_jobs': -1, 'clf__random_state': 42}\n",
      "Fitting 3 folds for each of 12 candidates, totalling 36 fits\n",
      "Classifier: RandomForestClassifier()\n",
      "Best Parameters:\n",
      "{'clf__max_depth': 4, 'clf__n_estimators': 15, 'clf__n_jobs': -1, 'clf__random_state': 42}\n",
      "Fitting 3 folds for each of 15 candidates, totalling 45 fits\n",
      "Classifier: AdaBoostClassifier()\n",
      "Best Parameters:\n",
      "{'clf__learning_rate': 1, 'clf__n_estimators': 50, 'clf__random_state': 42}\n",
      "Fitting 3 folds for each of 15 candidates, totalling 45 fits\n",
      "Classifier: AdaBoostClassifier()\n",
      "Best Parameters:\n",
      "{'clf__learning_rate': 1, 'clf__n_estimators': 50, 'clf__random_state': 42}\n",
      "Fitting 3 folds for each of 15 candidates, totalling 45 fits\n",
      "Classifier: AdaBoostClassifier()\n",
      "Best Parameters:\n",
      "{'clf__learning_rate': 1, 'clf__n_estimators': 50, 'clf__random_state': 42}\n",
      "Fitting 3 folds for each of 15 candidates, totalling 45 fits\n",
      "Classifier: AdaBoostClassifier()\n",
      "Best Parameters:\n",
      "{'clf__learning_rate': 1, 'clf__n_estimators': 50, 'clf__random_state': 42}\n"
     ]
    }
   ],
   "source": [
    "# Run GS on all models across all trainsets\n",
    "# code has been commented out to prevent running, random_state has been set for models which allow for it to reproduce similar results\n",
    "# Will take awhile to run, results of runs has already been stored in DF for reference.\n",
    "# for (clf, clf_params) in classifiers:\n",
    "#     realistic_model(clf, clf_params, X4, y4) \n",
    "#     realistic_model(clf, clf_params, X3, y3) \n",
    "#     realistic_model(clf, clf_params, X2, y2)\n",
    "#     realistic_model(clf, clf_params, X1, y1)"
   ]
  },
  {
   "cell_type": "code",
   "execution_count": 39,
   "id": "ec9507a7",
   "metadata": {
    "scrolled": true
   },
   "outputs": [
    {
     "data": {
      "text/html": [
       "<div>\n",
       "<style scoped>\n",
       "    .dataframe tbody tr th:only-of-type {\n",
       "        vertical-align: middle;\n",
       "    }\n",
       "\n",
       "    .dataframe tbody tr th {\n",
       "        vertical-align: top;\n",
       "    }\n",
       "\n",
       "    .dataframe thead th {\n",
       "        text-align: right;\n",
       "    }\n",
       "</style>\n",
       "<table border=\"1\" class=\"dataframe\">\n",
       "  <thead>\n",
       "    <tr style=\"text-align: right;\">\n",
       "      <th></th>\n",
       "      <th>Classifier</th>\n",
       "      <th>Train ROC-AUC Score</th>\n",
       "      <th>Val ROC-AUC Score</th>\n",
       "      <th>Best Parameters</th>\n",
       "      <th>F1</th>\n",
       "      <th>Precision</th>\n",
       "      <th>Recall</th>\n",
       "      <th>Accuracy</th>\n",
       "      <th>Train set Used</th>\n",
       "      <th>Val set used</th>\n",
       "    </tr>\n",
       "  </thead>\n",
       "  <tbody>\n",
       "    <tr>\n",
       "      <th>4</th>\n",
       "      <td>DecisionTreeClassifier()</td>\n",
       "      <td>0.696601</td>\n",
       "      <td>0.573582</td>\n",
       "      <td>{'clf__criterion': 'gini', 'clf__max_depth': 2, 'clf__min_samples_leaf': 2, 'clf__random_state': 42}</td>\n",
       "      <td>0.019512</td>\n",
       "      <td>0.009950</td>\n",
       "      <td>0.5</td>\n",
       "      <td>0.646127</td>\n",
       "      <td>X1</td>\n",
       "      <td>y1</td>\n",
       "    </tr>\n",
       "    <tr>\n",
       "      <th>13</th>\n",
       "      <td>RandomForestClassifier()</td>\n",
       "      <td>0.723911</td>\n",
       "      <td>0.515071</td>\n",
       "      <td>{'clf__max_depth': 4, 'clf__n_estimators': 15, 'clf__n_jobs': -1, 'clf__random_state': 42}</td>\n",
       "      <td>0.014414</td>\n",
       "      <td>0.007260</td>\n",
       "      <td>1.0</td>\n",
       "      <td>0.036972</td>\n",
       "      <td>X1</td>\n",
       "      <td>y1</td>\n",
       "    </tr>\n",
       "    <tr>\n",
       "      <th>16</th>\n",
       "      <td>LogisticRegression()</td>\n",
       "      <td>0.500000</td>\n",
       "      <td>0.500000</td>\n",
       "      <td>{'clf__C': 0.001, 'clf__l1_ratio': 0, 'clf__max_iter': 750, 'clf__n_jobs': -1, 'clf__penalty': 'l1', 'clf__random_state': 42, 'clf__solver': 'liblinear'}</td>\n",
       "      <td>0.000000</td>\n",
       "      <td>0.000000</td>\n",
       "      <td>0.0</td>\n",
       "      <td>0.992958</td>\n",
       "      <td>X1</td>\n",
       "      <td>y1</td>\n",
       "    </tr>\n",
       "    <tr>\n",
       "      <th>18</th>\n",
       "      <td>AdaBoostClassifier()</td>\n",
       "      <td>0.746019</td>\n",
       "      <td>0.459220</td>\n",
       "      <td>{'clf__learning_rate': 1, 'clf__n_estimators': 50, 'clf__random_state': 42}</td>\n",
       "      <td>0.000000</td>\n",
       "      <td>0.000000</td>\n",
       "      <td>0.0</td>\n",
       "      <td>0.911972</td>\n",
       "      <td>X1</td>\n",
       "      <td>y1</td>\n",
       "    </tr>\n",
       "    <tr>\n",
       "      <th>19</th>\n",
       "      <td>KNeighborsClassifier()</td>\n",
       "      <td>0.769339</td>\n",
       "      <td>0.443262</td>\n",
       "      <td>{'clf__n_neighbors': 3, 'clf__p': 1}</td>\n",
       "      <td>0.011364</td>\n",
       "      <td>0.005747</td>\n",
       "      <td>0.5</td>\n",
       "      <td>0.387324</td>\n",
       "      <td>X1</td>\n",
       "      <td>y1</td>\n",
       "    </tr>\n",
       "  </tbody>\n",
       "</table>\n",
       "</div>"
      ],
      "text/plain": [
       "                  Classifier  Train ROC-AUC Score  Val ROC-AUC Score  \\\n",
       "4   DecisionTreeClassifier()             0.696601           0.573582   \n",
       "13  RandomForestClassifier()             0.723911           0.515071   \n",
       "16      LogisticRegression()             0.500000           0.500000   \n",
       "18      AdaBoostClassifier()             0.746019           0.459220   \n",
       "19    KNeighborsClassifier()             0.769339           0.443262   \n",
       "\n",
       "                                                                                                                                              Best Parameters  \\\n",
       "4                                                        {'clf__criterion': 'gini', 'clf__max_depth': 2, 'clf__min_samples_leaf': 2, 'clf__random_state': 42}   \n",
       "13                                                                 {'clf__max_depth': 4, 'clf__n_estimators': 15, 'clf__n_jobs': -1, 'clf__random_state': 42}   \n",
       "16  {'clf__C': 0.001, 'clf__l1_ratio': 0, 'clf__max_iter': 750, 'clf__n_jobs': -1, 'clf__penalty': 'l1', 'clf__random_state': 42, 'clf__solver': 'liblinear'}   \n",
       "18                                                                                {'clf__learning_rate': 1, 'clf__n_estimators': 50, 'clf__random_state': 42}   \n",
       "19                                                                                                                       {'clf__n_neighbors': 3, 'clf__p': 1}   \n",
       "\n",
       "          F1  Precision  Recall  Accuracy Train set Used Val set used  \n",
       "4   0.019512   0.009950     0.5  0.646127             X1           y1  \n",
       "13  0.014414   0.007260     1.0  0.036972             X1           y1  \n",
       "16  0.000000   0.000000     0.0  0.992958             X1           y1  \n",
       "18  0.000000   0.000000     0.0  0.911972             X1           y1  \n",
       "19  0.011364   0.005747     0.5  0.387324             X1           y1  "
      ]
     },
     "execution_count": 39,
     "metadata": {},
     "output_type": "execute_result"
    }
   ],
   "source": [
    "realisticresult = pd.DataFrame(realisticresult).sort_values(by='Val ROC-AUC Score', ascending=False).reset_index(drop=True)\n",
    "realisticresult[realisticresult['Train set Used'] == 'X1']\n",
    "#click ... to see output"
   ]
  },
  {
   "cell_type": "markdown",
   "id": "03d9cb38",
   "metadata": {},
   "source": [
    "Scores are bad (severely overfitting) across the board, probably due to what was mentioned earlier."
   ]
  },
  {
   "cell_type": "code",
   "execution_count": 40,
   "id": "ddf4f356",
   "metadata": {
    "scrolled": true
   },
   "outputs": [
    {
     "data": {
      "text/html": [
       "<div>\n",
       "<style scoped>\n",
       "    .dataframe tbody tr th:only-of-type {\n",
       "        vertical-align: middle;\n",
       "    }\n",
       "\n",
       "    .dataframe tbody tr th {\n",
       "        vertical-align: top;\n",
       "    }\n",
       "\n",
       "    .dataframe thead th {\n",
       "        text-align: right;\n",
       "    }\n",
       "</style>\n",
       "<table border=\"1\" class=\"dataframe\">\n",
       "  <thead>\n",
       "    <tr style=\"text-align: right;\">\n",
       "      <th></th>\n",
       "      <th>Classifier</th>\n",
       "      <th>Train ROC-AUC Score</th>\n",
       "      <th>Val ROC-AUC Score</th>\n",
       "      <th>Best Parameters</th>\n",
       "      <th>F1</th>\n",
       "      <th>Precision</th>\n",
       "      <th>Recall</th>\n",
       "      <th>Accuracy</th>\n",
       "      <th>Train set Used</th>\n",
       "      <th>Val set used</th>\n",
       "    </tr>\n",
       "  </thead>\n",
       "  <tbody>\n",
       "    <tr>\n",
       "      <th>0</th>\n",
       "      <td>KNeighborsClassifier()</td>\n",
       "      <td>0.779076</td>\n",
       "      <td>0.617647</td>\n",
       "      <td>{'clf__n_neighbors': 3, 'clf__p': 1}</td>\n",
       "      <td>0.051173</td>\n",
       "      <td>0.026549</td>\n",
       "      <td>0.705882</td>\n",
       "      <td>0.532563</td>\n",
       "      <td>X2</td>\n",
       "      <td>y2</td>\n",
       "    </tr>\n",
       "    <tr>\n",
       "      <th>1</th>\n",
       "      <td>DecisionTreeClassifier()</td>\n",
       "      <td>0.777685</td>\n",
       "      <td>0.596791</td>\n",
       "      <td>{'clf__criterion': 'gini', 'clf__max_depth': 2, 'clf__min_samples_leaf': 2, 'clf__random_state': 42}</td>\n",
       "      <td>0.047244</td>\n",
       "      <td>0.024440</td>\n",
       "      <td>0.705882</td>\n",
       "      <td>0.491597</td>\n",
       "      <td>X2</td>\n",
       "      <td>y2</td>\n",
       "    </tr>\n",
       "    <tr>\n",
       "      <th>7</th>\n",
       "      <td>LogisticRegression()</td>\n",
       "      <td>0.740043</td>\n",
       "      <td>0.563636</td>\n",
       "      <td>{'clf__C': 0.001, 'clf__l1_ratio': 0, 'clf__max_iter': 750, 'clf__n_jobs': -1, 'clf__penalty': 'l1', 'clf__random_state': 42, 'clf__solver': 'liblinear'}</td>\n",
       "      <td>0.041534</td>\n",
       "      <td>0.021346</td>\n",
       "      <td>0.764706</td>\n",
       "      <td>0.369748</td>\n",
       "      <td>X2</td>\n",
       "      <td>y2</td>\n",
       "    </tr>\n",
       "    <tr>\n",
       "      <th>10</th>\n",
       "      <td>RandomForestClassifier()</td>\n",
       "      <td>0.790619</td>\n",
       "      <td>0.539037</td>\n",
       "      <td>{'clf__max_depth': 4, 'clf__n_estimators': 15, 'clf__n_jobs': -1, 'clf__random_state': 42}</td>\n",
       "      <td>0.038095</td>\n",
       "      <td>0.019441</td>\n",
       "      <td>0.941176</td>\n",
       "      <td>0.151261</td>\n",
       "      <td>X2</td>\n",
       "      <td>y2</td>\n",
       "    </tr>\n",
       "    <tr>\n",
       "      <th>17</th>\n",
       "      <td>AdaBoostClassifier()</td>\n",
       "      <td>0.809669</td>\n",
       "      <td>0.469519</td>\n",
       "      <td>{'clf__learning_rate': 1, 'clf__n_estimators': 50, 'clf__random_state': 42}</td>\n",
       "      <td>0.024793</td>\n",
       "      <td>0.013333</td>\n",
       "      <td>0.176471</td>\n",
       "      <td>0.752101</td>\n",
       "      <td>X2</td>\n",
       "      <td>y2</td>\n",
       "    </tr>\n",
       "  </tbody>\n",
       "</table>\n",
       "</div>"
      ],
      "text/plain": [
       "                  Classifier  Train ROC-AUC Score  Val ROC-AUC Score  \\\n",
       "0     KNeighborsClassifier()             0.779076           0.617647   \n",
       "1   DecisionTreeClassifier()             0.777685           0.596791   \n",
       "7       LogisticRegression()             0.740043           0.563636   \n",
       "10  RandomForestClassifier()             0.790619           0.539037   \n",
       "17      AdaBoostClassifier()             0.809669           0.469519   \n",
       "\n",
       "                                                                                                                                              Best Parameters  \\\n",
       "0                                                                                                                        {'clf__n_neighbors': 3, 'clf__p': 1}   \n",
       "1                                                        {'clf__criterion': 'gini', 'clf__max_depth': 2, 'clf__min_samples_leaf': 2, 'clf__random_state': 42}   \n",
       "7   {'clf__C': 0.001, 'clf__l1_ratio': 0, 'clf__max_iter': 750, 'clf__n_jobs': -1, 'clf__penalty': 'l1', 'clf__random_state': 42, 'clf__solver': 'liblinear'}   \n",
       "10                                                                 {'clf__max_depth': 4, 'clf__n_estimators': 15, 'clf__n_jobs': -1, 'clf__random_state': 42}   \n",
       "17                                                                                {'clf__learning_rate': 1, 'clf__n_estimators': 50, 'clf__random_state': 42}   \n",
       "\n",
       "          F1  Precision    Recall  Accuracy Train set Used Val set used  \n",
       "0   0.051173   0.026549  0.705882  0.532563             X2           y2  \n",
       "1   0.047244   0.024440  0.705882  0.491597             X2           y2  \n",
       "7   0.041534   0.021346  0.764706  0.369748             X2           y2  \n",
       "10  0.038095   0.019441  0.941176  0.151261             X2           y2  \n",
       "17  0.024793   0.013333  0.176471  0.752101             X2           y2  "
      ]
     },
     "execution_count": 40,
     "metadata": {},
     "output_type": "execute_result"
    }
   ],
   "source": [
    "realisticresult[realisticresult['Train set Used'] == 'X2']\n",
    "#click ... to see output"
   ]
  },
  {
   "cell_type": "markdown",
   "id": "e4c02cfe",
   "metadata": {},
   "source": [
    "Scores are improving but still overfitting across the board, as it receives more data to learn from."
   ]
  },
  {
   "cell_type": "code",
   "execution_count": 41,
   "id": "59d3b8f2",
   "metadata": {
    "scrolled": true
   },
   "outputs": [
    {
     "data": {
      "text/html": [
       "<div>\n",
       "<style scoped>\n",
       "    .dataframe tbody tr th:only-of-type {\n",
       "        vertical-align: middle;\n",
       "    }\n",
       "\n",
       "    .dataframe tbody tr th {\n",
       "        vertical-align: top;\n",
       "    }\n",
       "\n",
       "    .dataframe thead th {\n",
       "        text-align: right;\n",
       "    }\n",
       "</style>\n",
       "<table border=\"1\" class=\"dataframe\">\n",
       "  <thead>\n",
       "    <tr style=\"text-align: right;\">\n",
       "      <th></th>\n",
       "      <th>Classifier</th>\n",
       "      <th>Train ROC-AUC Score</th>\n",
       "      <th>Val ROC-AUC Score</th>\n",
       "      <th>Best Parameters</th>\n",
       "      <th>F1</th>\n",
       "      <th>Precision</th>\n",
       "      <th>Recall</th>\n",
       "      <th>Accuracy</th>\n",
       "      <th>Train set Used</th>\n",
       "      <th>Val set used</th>\n",
       "    </tr>\n",
       "  </thead>\n",
       "  <tbody>\n",
       "    <tr>\n",
       "      <th>2</th>\n",
       "      <td>RandomForestClassifier()</td>\n",
       "      <td>0.810118</td>\n",
       "      <td>0.586193</td>\n",
       "      <td>{'clf__max_depth': 4, 'clf__n_estimators': 15, 'clf__n_jobs': -1, 'clf__random_state': 42}</td>\n",
       "      <td>0.097808</td>\n",
       "      <td>0.053407</td>\n",
       "      <td>0.58</td>\n",
       "      <td>0.591915</td>\n",
       "      <td>X3</td>\n",
       "      <td>y3</td>\n",
       "    </tr>\n",
       "    <tr>\n",
       "      <th>9</th>\n",
       "      <td>AdaBoostClassifier()</td>\n",
       "      <td>0.815189</td>\n",
       "      <td>0.554441</td>\n",
       "      <td>{'clf__learning_rate': 1, 'clf__n_estimators': 50, 'clf__random_state': 42}</td>\n",
       "      <td>0.098039</td>\n",
       "      <td>0.058594</td>\n",
       "      <td>0.30</td>\n",
       "      <td>0.789474</td>\n",
       "      <td>X3</td>\n",
       "      <td>y3</td>\n",
       "    </tr>\n",
       "    <tr>\n",
       "      <th>11</th>\n",
       "      <td>DecisionTreeClassifier()</td>\n",
       "      <td>0.786136</td>\n",
       "      <td>0.537550</td>\n",
       "      <td>{'clf__criterion': 'gini', 'clf__max_depth': 2, 'clf__min_samples_leaf': 2, 'clf__random_state': 42}</td>\n",
       "      <td>0.080183</td>\n",
       "      <td>0.042527</td>\n",
       "      <td>0.70</td>\n",
       "      <td>0.387490</td>\n",
       "      <td>X3</td>\n",
       "      <td>y3</td>\n",
       "    </tr>\n",
       "    <tr>\n",
       "      <th>14</th>\n",
       "      <td>LogisticRegression()</td>\n",
       "      <td>0.750432</td>\n",
       "      <td>0.514869</td>\n",
       "      <td>{'clf__C': 0.001, 'clf__l1_ratio': 0, 'clf__max_iter': 750, 'clf__n_jobs': -1, 'clf__penalty': 'l1', 'clf__random_state': 42, 'clf__solver': 'liblinear'}</td>\n",
       "      <td>0.074850</td>\n",
       "      <td>0.040453</td>\n",
       "      <td>0.50</td>\n",
       "      <td>0.528604</td>\n",
       "      <td>X3</td>\n",
       "      <td>y3</td>\n",
       "    </tr>\n",
       "    <tr>\n",
       "      <th>15</th>\n",
       "      <td>KNeighborsClassifier()</td>\n",
       "      <td>0.773441</td>\n",
       "      <td>0.508660</td>\n",
       "      <td>{'clf__n_neighbors': 3, 'clf__p': 1}</td>\n",
       "      <td>0.072727</td>\n",
       "      <td>0.039640</td>\n",
       "      <td>0.44</td>\n",
       "      <td>0.572082</td>\n",
       "      <td>X3</td>\n",
       "      <td>y3</td>\n",
       "    </tr>\n",
       "  </tbody>\n",
       "</table>\n",
       "</div>"
      ],
      "text/plain": [
       "                  Classifier  Train ROC-AUC Score  Val ROC-AUC Score  \\\n",
       "2   RandomForestClassifier()             0.810118           0.586193   \n",
       "9       AdaBoostClassifier()             0.815189           0.554441   \n",
       "11  DecisionTreeClassifier()             0.786136           0.537550   \n",
       "14      LogisticRegression()             0.750432           0.514869   \n",
       "15    KNeighborsClassifier()             0.773441           0.508660   \n",
       "\n",
       "                                                                                                                                              Best Parameters  \\\n",
       "2                                                                  {'clf__max_depth': 4, 'clf__n_estimators': 15, 'clf__n_jobs': -1, 'clf__random_state': 42}   \n",
       "9                                                                                 {'clf__learning_rate': 1, 'clf__n_estimators': 50, 'clf__random_state': 42}   \n",
       "11                                                       {'clf__criterion': 'gini', 'clf__max_depth': 2, 'clf__min_samples_leaf': 2, 'clf__random_state': 42}   \n",
       "14  {'clf__C': 0.001, 'clf__l1_ratio': 0, 'clf__max_iter': 750, 'clf__n_jobs': -1, 'clf__penalty': 'l1', 'clf__random_state': 42, 'clf__solver': 'liblinear'}   \n",
       "15                                                                                                                       {'clf__n_neighbors': 3, 'clf__p': 1}   \n",
       "\n",
       "          F1  Precision  Recall  Accuracy Train set Used Val set used  \n",
       "2   0.097808   0.053407    0.58  0.591915             X3           y3  \n",
       "9   0.098039   0.058594    0.30  0.789474             X3           y3  \n",
       "11  0.080183   0.042527    0.70  0.387490             X3           y3  \n",
       "14  0.074850   0.040453    0.50  0.528604             X3           y3  \n",
       "15  0.072727   0.039640    0.44  0.572082             X3           y3  "
      ]
     },
     "execution_count": 41,
     "metadata": {},
     "output_type": "execute_result"
    }
   ],
   "source": [
    "realisticresult[realisticresult['Train set Used'] == 'X3']\n",
    "#click ... to see output"
   ]
  },
  {
   "cell_type": "code",
   "execution_count": 43,
   "id": "d8aeb725",
   "metadata": {
    "scrolled": false
   },
   "outputs": [
    {
     "data": {
      "text/html": [
       "<div>\n",
       "<style scoped>\n",
       "    .dataframe tbody tr th:only-of-type {\n",
       "        vertical-align: middle;\n",
       "    }\n",
       "\n",
       "    .dataframe tbody tr th {\n",
       "        vertical-align: top;\n",
       "    }\n",
       "\n",
       "    .dataframe thead th {\n",
       "        text-align: right;\n",
       "    }\n",
       "</style>\n",
       "<table border=\"1\" class=\"dataframe\">\n",
       "  <thead>\n",
       "    <tr style=\"text-align: right;\">\n",
       "      <th></th>\n",
       "      <th>Classifier</th>\n",
       "      <th>Train ROC-AUC Score</th>\n",
       "      <th>Val ROC-AUC Score</th>\n",
       "      <th>Best Parameters</th>\n",
       "      <th>F1</th>\n",
       "      <th>Precision</th>\n",
       "      <th>Recall</th>\n",
       "      <th>Accuracy</th>\n",
       "      <th>Train set Used</th>\n",
       "      <th>Val set used</th>\n",
       "    </tr>\n",
       "  </thead>\n",
       "  <tbody>\n",
       "    <tr>\n",
       "      <th>3</th>\n",
       "      <td>LogisticRegression()</td>\n",
       "      <td>0.657020</td>\n",
       "      <td>0.579615</td>\n",
       "      <td>{'clf__C': 0.001, 'clf__l1_ratio': 0, 'clf__max_iter': 750, 'clf__n_jobs': -1, 'clf__penalty': 'l1', 'clf__random_state': 42, 'clf__solver': 'liblinear'}</td>\n",
       "      <td>0.292750</td>\n",
       "      <td>0.191756</td>\n",
       "      <td>0.618497</td>\n",
       "      <td>0.552381</td>\n",
       "      <td>X4</td>\n",
       "      <td>y4</td>\n",
       "    </tr>\n",
       "    <tr>\n",
       "      <th>5</th>\n",
       "      <td>AdaBoostClassifier()</td>\n",
       "      <td>0.788300</td>\n",
       "      <td>0.568879</td>\n",
       "      <td>{'clf__learning_rate': 1, 'clf__n_estimators': 50, 'clf__random_state': 42}</td>\n",
       "      <td>0.283237</td>\n",
       "      <td>0.188825</td>\n",
       "      <td>0.566474</td>\n",
       "      <td>0.570563</td>\n",
       "      <td>X4</td>\n",
       "      <td>y4</td>\n",
       "    </tr>\n",
       "    <tr>\n",
       "      <th>6</th>\n",
       "      <td>DecisionTreeClassifier()</td>\n",
       "      <td>0.700177</td>\n",
       "      <td>0.566709</td>\n",
       "      <td>{'clf__criterion': 'gini', 'clf__max_depth': 2, 'clf__min_samples_leaf': 2, 'clf__random_state': 42}</td>\n",
       "      <td>0.275194</td>\n",
       "      <td>0.206997</td>\n",
       "      <td>0.410405</td>\n",
       "      <td>0.676190</td>\n",
       "      <td>X4</td>\n",
       "      <td>y4</td>\n",
       "    </tr>\n",
       "    <tr>\n",
       "      <th>8</th>\n",
       "      <td>KNeighborsClassifier()</td>\n",
       "      <td>0.694761</td>\n",
       "      <td>0.555879</td>\n",
       "      <td>{'clf__n_neighbors': 3, 'clf__p': 1}</td>\n",
       "      <td>0.276202</td>\n",
       "      <td>0.175549</td>\n",
       "      <td>0.647399</td>\n",
       "      <td>0.491775</td>\n",
       "      <td>X4</td>\n",
       "      <td>y4</td>\n",
       "    </tr>\n",
       "    <tr>\n",
       "      <th>12</th>\n",
       "      <td>RandomForestClassifier()</td>\n",
       "      <td>0.768696</td>\n",
       "      <td>0.531345</td>\n",
       "      <td>{'clf__max_depth': 4, 'clf__n_estimators': 15, 'clf__n_jobs': -1, 'clf__random_state': 42}</td>\n",
       "      <td>0.271584</td>\n",
       "      <td>0.158824</td>\n",
       "      <td>0.936416</td>\n",
       "      <td>0.247619</td>\n",
       "      <td>X4</td>\n",
       "      <td>y4</td>\n",
       "    </tr>\n",
       "  </tbody>\n",
       "</table>\n",
       "</div>"
      ],
      "text/plain": [
       "                  Classifier  Train ROC-AUC Score  Val ROC-AUC Score  \\\n",
       "3       LogisticRegression()             0.657020           0.579615   \n",
       "5       AdaBoostClassifier()             0.788300           0.568879   \n",
       "6   DecisionTreeClassifier()             0.700177           0.566709   \n",
       "8     KNeighborsClassifier()             0.694761           0.555879   \n",
       "12  RandomForestClassifier()             0.768696           0.531345   \n",
       "\n",
       "                                                                                                                                              Best Parameters  \\\n",
       "3   {'clf__C': 0.001, 'clf__l1_ratio': 0, 'clf__max_iter': 750, 'clf__n_jobs': -1, 'clf__penalty': 'l1', 'clf__random_state': 42, 'clf__solver': 'liblinear'}   \n",
       "5                                                                                 {'clf__learning_rate': 1, 'clf__n_estimators': 50, 'clf__random_state': 42}   \n",
       "6                                                        {'clf__criterion': 'gini', 'clf__max_depth': 2, 'clf__min_samples_leaf': 2, 'clf__random_state': 42}   \n",
       "8                                                                                                                        {'clf__n_neighbors': 3, 'clf__p': 1}   \n",
       "12                                                                 {'clf__max_depth': 4, 'clf__n_estimators': 15, 'clf__n_jobs': -1, 'clf__random_state': 42}   \n",
       "\n",
       "          F1  Precision    Recall  Accuracy Train set Used Val set used  \n",
       "3   0.292750   0.191756  0.618497  0.552381             X4           y4  \n",
       "5   0.283237   0.188825  0.566474  0.570563             X4           y4  \n",
       "6   0.275194   0.206997  0.410405  0.676190             X4           y4  \n",
       "8   0.276202   0.175549  0.647399  0.491775             X4           y4  \n",
       "12  0.271584   0.158824  0.936416  0.247619             X4           y4  "
      ]
     },
     "execution_count": 43,
     "metadata": {},
     "output_type": "execute_result"
    }
   ],
   "source": [
    "realisticresult[realisticresult['Train set Used'] == 'X4']\n",
    "#click ... to see output"
   ]
  },
  {
   "cell_type": "markdown",
   "id": "d7b63130",
   "metadata": {},
   "source": [
    "Scores have plataeued and there is still overfitting across the board, despite receiving one more year worth of data to learn from."
   ]
  },
  {
   "cell_type": "markdown",
   "id": "8b9a668d",
   "metadata": {},
   "source": [
    "## Further Improvements"
   ]
  },
  {
   "cell_type": "markdown",
   "id": "807295e8",
   "metadata": {},
   "source": [
    "Based on our initial intuition, we managed to 'predict' that models built on `tr01` will be the worst is correct as it has the smallest pool of data to learn the relationship between the features and the target variable. \n",
    "\n",
    "There is also overfitting across the board, one possible remedy for this could be to expand our training window to be even larger to include more data (5 years) or do more creative feature engineering, as explored earlier from our optimistic approach, we can try one-hot encoding the traps/species/weather phenomenons, another feature which we could have engineered is to use a regression model to predict the mosquito population for a given Lat. Lon. or trap based on a selection of weather variables."
   ]
  },
  {
   "cell_type": "markdown",
   "id": "a4bd2453",
   "metadata": {},
   "source": [
    "\n",
    "We can also improve the overfitting problem further by acting on weather variables identified to be exhibiting time series behaviour (Stationarity/Trends) by using the [augmented Dickey–Fuller test](https://en.wikipedia.org/wiki/Augmented_Dickey%E2%80%93Fuller_test) (ADF), more could also be done on the modelling end by trying out time series models (AR/MA/ARIMA/SARIMAX) with differenced or transformed variables identified with time series behaviour. We can also use [Auto Correlation Function](https://medium.com/@krzysztofdrelczuk/acf-autocorrelation-function-simple-explanation-with-python-example-492484c32711)(ACF) and [Partial Auto Correlation Function](https://machinelearningmastery.com/gentle-introduction-autocorrelation-partial-autocorrelation/) to help us identify critical lag values to use in our time series models."
   ]
  },
  {
   "cell_type": "markdown",
   "id": "127c0ba6",
   "metadata": {},
   "source": [
    "## Cost Benefit Analysis"
   ]
  },
  {
   "cell_type": "code",
   "execution_count": null,
   "id": "6e1f5c04",
   "metadata": {},
   "outputs": [],
   "source": [
    "# Andre to include relevant information and links to sources\n",
    "\n",
    "# refer back to baseline model and discuss tradeoff against lowering false negatives and increasing false positives\n",
    "\n",
    "# quantify potential costs of a given trap being misclassified negative (potential infections)\n",
    "#   vs \n",
    "#   potential costs of a given trap misclassified positive (spray will happen)"
   ]
  },
  {
   "cell_type": "markdown",
   "id": "18e9cbdc",
   "metadata": {},
   "source": [
    "## Recommendations and Conclusions"
   ]
  },
  {
   "cell_type": "markdown",
   "id": "6a9a7b1f",
   "metadata": {},
   "source": [
    "**Recommendations**  \n",
    "Based on the AdaBoostClassifier predictions and it's identified feature importances, here are our recommendations:\n",
    "\n",
    "- Identify corresponding traps with lat,long values and commence spraying in a radius of 1.3km around these traps a month in advance prior, with attention given to [maintain spray intervals of not longer than two weeks](https://www.ncbi.nlm.nih.gov/pmc/articles/PMC2600250/).   \n",
    "\n",
    "\n",
    "- Positive traps which have another trap in it's vincinity of 1.3km should also be sprayed due to the flight ranged previously researched (referenced in combined EDA notebook) on WNV carrying species (Restuans/ Pipiens).  \n",
    "      \n",
    "      \n",
    "- Better trap laying procedures (Standardized trap locations)   \n",
    "It was observed during the EDA process that trap locations are seldom similar across years, which might hinder proper identification of areas prone to WNV (consecutive years of WNV+ during peak seasons).  \n",
    "      \n",
    "      \n",
    "- Provision of data in increased quality and quantities   \n",
    "Data provided for our model to be trained on were only for months to be peak season, it would be better to provide the full range of data for an entire year. Should traps no be tested during winter months, methods can be used to impute the values of these traps ( 0 or mean for past/present year) to better account for the variability of weather data for a given trap."
   ]
  },
  {
   "cell_type": "markdown",
   "id": "b7bce2f7",
   "metadata": {},
   "source": [
    "**Conclusion**\n",
    "\n",
    "In this project, we cleaned and explored the traps, spray and weather data of Chicago to learn about how each of them plays a part with regards to the mosquito population in Chicago and its relationship to the presence of West Nile Virus(Wnv). Using learned relationships during EDA and visualizations, using the data science process we also used a selection of classifiers to predict potential positive traps to serve as a guide for timely effective allocation of resources.   \n",
    "\n",
    "The classsification model we trained gave us a decent ROC-AUC score of ~0.778, and very good recall score of ~0.901. We also learned about possible pitfalls when our scores can be seem optimistic but not necessarily predict well on future data when the look ahead bias is introduced. \n",
    "\n",
    "In the cost-benefit analysis(CBA) we also explored the quantification of cost when a positive trap misclassified as negative as well as a negative trap misclassfied as positive. Additionally, the CBA also covered the breakeven point in terms of number of WNV cases prevent as a result of spraying for cost justification. We also covered the intangible aspects of the WNV such as the grief and disruption in brings to patients. The potential of WNV to bring about severe life-threathening diseases/risk of permanent disability also highlights the importance of prevention rather than cure as every life lost/ severely disrupted due to WNV is one too many.\n",
    "\n",
    "\n",
    "\n",
    "https://www.cdc.gov/westnile/prevention/index.html\n",
    "\n",
    "Moving forward, more geographic and demographics information could also be useful in studying the presence of Wnv. Since Wnv is spread through moquitoes, we could expect that proportion of open water sources, percentage of grass land, forests, and urban landscape are all factors of the livelihood of these mosquitoes. We can expand the studies to the rest of United States with more data on more mosquitoes species as other states have other species as the main vector species."
   ]
  },
  {
   "cell_type": "markdown",
   "id": "e73fe922",
   "metadata": {},
   "source": [
    "---"
   ]
  },
  {
   "cell_type": "markdown",
   "id": "9976cdb3",
   "metadata": {},
   "source": [
    "### Exporting predictions on test set to csv for kaggle submission"
   ]
  },
  {
   "cell_type": "code",
   "execution_count": null,
   "id": "3149820e",
   "metadata": {
    "scrolled": true
   },
   "outputs": [],
   "source": [
    "# sub = pd.DataFrame(ada.predict_proba(test_combined)[:,1], columns = ['WnvPresent'])\n",
    "# sub.set_index(np.arange(1, test_combined.shape[0] + 1), inplace=True)\n",
    "# sub = sub.reset_index().rename(columns = {'index':'Id'})\n",
    "# sub.WnvPresent = sub.WnvPresent.round(0).astype(int)\n",
    "# sub.to_csv('../data/submission_ada.csv', index = False)"
   ]
  },
  {
   "cell_type": "markdown",
   "id": "378d0f27",
   "metadata": {},
   "source": [
    "---"
   ]
  }
 ],
 "metadata": {
  "kernelspec": {
   "display_name": "Python 3",
   "language": "python",
   "name": "python3"
  },
  "language_info": {
   "codemirror_mode": {
    "name": "ipython",
    "version": 3
   },
   "file_extension": ".py",
   "mimetype": "text/x-python",
   "name": "python",
   "nbconvert_exporter": "python",
   "pygments_lexer": "ipython3",
   "version": "3.8.8"
  }
 },
 "nbformat": 4,
 "nbformat_minor": 5
}
